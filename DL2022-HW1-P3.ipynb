{
 "cells": [
  {
   "cell_type": "markdown",
   "metadata": {
    "deletable": false,
    "editable": false,
    "heading_collapsed": true,
    "run_control": {
     "frozen": true
    }
   },
   "source": [
    "# Deep Learning"
   ]
  },
  {
   "cell_type": "markdown",
   "metadata": {
    "deletable": false,
    "editable": false,
    "heading_collapsed": true,
    "hidden": true,
    "run_control": {
     "frozen": true
    }
   },
   "source": [
    "## HW1- Problem 3 - Regression (100 pts)"
   ]
  },
  {
   "cell_type": "markdown",
   "metadata": {
    "heading_collapsed": true,
    "hidden": true
   },
   "source": [
    "### Please fill this part\n",
    "\n",
    "\n",
    "1.   Full Name: mohammad hossein moselmi\n",
    "2.   Student Number: 97102463\n",
    "\n",
    "\n",
    "\n",
    "*You are just allowded to change those parts that start with \"TO DO\". Please do not change other parts.*\n",
    "\n",
    "*It is highly recommended to read each codeline carefully and try to understand what it exactly does. Best of luck and have fun!*"
   ]
  },
  {
   "cell_type": "code",
   "execution_count": 1,
   "metadata": {
    "hidden": true
   },
   "outputs": [],
   "source": [
    "# You are not allowed to import other packages.\n",
    "\n",
    "\n",
    "import numpy as np\n",
    "import pandas as pd\n",
    "\n",
    "from matplotlib import pyplot as plt\n",
    "from sklearn.metrics import mean_squared_error\n"
   ]
  },
  {
   "cell_type": "markdown",
   "metadata": {
    "deletable": false,
    "editable": false,
    "heading_collapsed": true,
    "hidden": true,
    "run_control": {
     "frozen": true
    }
   },
   "source": [
    "### Part1:\n",
    "Consider the dataset which has been given to you. Split the dataset into the `training dataset` and `test dataset`. You can use `80%` of the data for training and the rest for testing."
   ]
  },
  {
   "cell_type": "code",
   "execution_count": 2,
   "metadata": {
    "hidden": true
   },
   "outputs": [],
   "source": [
    "from sklearn.model_selection import train_test_split\n",
    "\n",
    "dataset = pd.read_csv(\"./data/data01.csv\")\n",
    "\n",
    "# implement the split part\n",
    "# name them: x_train, x_test, y_train, y_test\n",
    "\n",
    "x_train, x_test, y_train, y_test =train_test_split(dataset['X'].to_numpy(),dataset['Y'].to_numpy(),test_size=0.2,random_state=42)\n",
    "\n",
    "x_train=x_train.reshape(-1,1)\n",
    "x_test=x_test.reshape(-1,1)\n",
    "y_train=y_train.reshape(-1,1)\n",
    "y_test=y_test.reshape(-1,1)\n"
   ]
  },
  {
   "cell_type": "code",
   "execution_count": null,
   "metadata": {},
   "outputs": [],
   "source": []
  },
  {
   "cell_type": "markdown",
   "metadata": {
    "deletable": false,
    "editable": false,
    "heading_collapsed": true,
    "hidden": true,
    "run_control": {
     "frozen": true
    }
   },
   "source": [
    "### Part2:\n",
    "Assume there is simple linear relationship between X and Y. Train a simple `Linear Regression` on the training dataset and report its accuracy on the training and testing dataset, separately."
   ]
  },
  {
   "cell_type": "code",
   "execution_count": 3,
   "metadata": {
    "hidden": true
   },
   "outputs": [
    {
     "data": {
      "text/plain": [
       "[-1.0191548119976181, 0.810468876931334]"
      ]
     },
     "execution_count": 3,
     "metadata": {},
     "output_type": "execute_result"
    }
   ],
   "source": [
    "# here you can implement via sgd or use least square solution. we suggest the second one inv(A^T A) * A^T y.\n",
    "# consider m as the returned line --> m[0] = the slope , m[1] = y intercept, also don't forget to use numpy for calculating m.\n",
    "\n",
    "\n",
    "import numpy as np\n",
    "from sklearn.linear_model import LinearRegression\n",
    "from sklearn.metrics import mean_squared_error\n",
    "\n",
    "reg = LinearRegression().fit(x_train, y_train)\n",
    "\n",
    "m = [reg.coef_[0][0],reg.intercept_[0]]\n",
    "m"
   ]
  },
  {
   "cell_type": "code",
   "execution_count": 4,
   "metadata": {
    "hidden": true
   },
   "outputs": [
    {
     "name": "stdout",
     "output_type": "stream",
     "text": [
      "MSE train error: 0.3307946156522651\n",
      "MSE test error: 0.3297794594958148\n"
     ]
    }
   ],
   "source": [
    "predicted_train_y = m[0] * x_train + m[1]\n",
    "predicted_test_y = m[0] * x_test + m[1]\n",
    "\n",
    "train_error = np.sum((y_train-predicted_train_y)**2)/len(y_train)\n",
    "test_error = np.sum((y_test.flatten() - predicted_test_y.flatten())**2)/len(y_test)\n",
    "\n",
    "print(f\"MSE train error: {train_error}\\nMSE test error: {test_error}\")\n"
   ]
  },
  {
   "cell_type": "markdown",
   "metadata": {
    "deletable": false,
    "editable": false,
    "heading_collapsed": true,
    "hidden": true,
    "run_control": {
     "frozen": true
    }
   },
   "source": [
    "### Part3:\n",
    "Draw the line you've found in the last part, on train and test points (each separately)."
   ]
  },
  {
   "cell_type": "code",
   "execution_count": 5,
   "metadata": {
    "hidden": true
   },
   "outputs": [
    {
     "data": {
      "text/plain": [
       "Text(0.5, 1.0, 'Train dataset')"
      ]
     },
     "execution_count": 5,
     "metadata": {},
     "output_type": "execute_result"
    },
    {
     "data": {
      "image/png": "[encoded data removed]",
      "text/plain": [
       "<Figure size 432x288 with 1 Axes>"
      ]
     },
     "metadata": {
      "needs_background": "light"
     },
     "output_type": "display_data"
    }
   ],
   "source": [
    "plt.scatter(x_train, y_train)\n",
    "plt.scatter(x_train, m[0]*x_train + m[1], s=1)\n",
    "plt.title(\"Train dataset\")"
   ]
  },
  {
   "cell_type": "code",
   "execution_count": 6,
   "metadata": {
    "hidden": true
   },
   "outputs": [
    {
     "data": {
      "text/plain": [
       "Text(0.5, 1.0, 'Test dataset')"
      ]
     },
     "execution_count": 6,
     "metadata": {},
     "output_type": "execute_result"
    },
    {
     "data": {
      "image/png": "[encoded data removed]",
      "text/plain": [
       "<Figure size 432x288 with 1 Axes>"
      ]
     },
     "metadata": {
      "needs_background": "light"
     },
     "output_type": "display_data"
    }
   ],
   "source": [
    "plt.scatter(x_test, y_test)\n",
    "plt.scatter(x_test, m[0]*x_test + m[1], s=1)\n",
    "plt.title(\"Test dataset\")"
   ]
  },
  {
   "cell_type": "markdown",
   "metadata": {
    "deletable": false,
    "editable": false,
    "heading_collapsed": true,
    "hidden": true,
    "run_control": {
     "frozen": true
    }
   },
   "source": [
    "### Part4:\n",
    "Were the reported accuracies acceptable?\n",
    "\n",
    "What about the line you drew in the last part?\n",
    "\n",
    "Was it appropriate for the dataset?\n",
    "<br><br/>\n",
    "Explain what are the main problems here."
   ]
  },
  {
   "cell_type": "markdown",
   "metadata": {
    "hidden": true
   },
   "source": [
    "the acc is not acceptable and linear reg is not suitable for this dataset because of the form of the datas.\n",
    "\n",
    "the test error is less, this may reflect biased sampling in the dataset that harder samples are mostly in training set. also, it is obvious that our model is underfitted and cannot make train ans test error less.  "
   ]
  },
  {
   "cell_type": "markdown",
   "metadata": {
    "deletable": false,
    "editable": false,
    "heading_collapsed": true,
    "hidden": true,
    "run_control": {
     "frozen": true
    }
   },
   "source": [
    "### Part5:\n",
    "Now, consider the `Locally Weighted Linear Regression` approach for this problem. Do expect it performs better than simple `Linear Regression` for this dataset?"
   ]
  },
  {
   "cell_type": "markdown",
   "metadata": {
    "hidden": true
   },
   "source": [
    "In this dataset yes, because this method is best when our data is nonlinear. Also, this model allows more complexity for our model and if it does not overfit, it will perform better\n"
   ]
  },
  {
   "cell_type": "markdown",
   "metadata": {
    "deletable": false,
    "editable": false,
    "heading_collapsed": true,
    "hidden": true,
    "run_control": {
     "frozen": true
    }
   },
   "source": [
    "### Part6:\n",
    "Here, we want to implement the `suggested model`. You can implement any weight function you want, the below implementation is just a sample:\n",
    "<br><br/>\n",
    "\\begin{equation*}\n",
    "    w^{(i)}=exp\\left(-\\frac{(\\mathbf x^{(i)}-\\mathbf x)^\\top(\\mathbf x^{(i)}-\\mathbf x)}{2\\tau^2}\\right)\n",
    "\\end{equation*}"
   ]
  },
  {
   "cell_type": "code",
   "execution_count": 7,
   "metadata": {
    "hidden": true
   },
   "outputs": [],
   "source": [
    "def get_weight_matrix(the_query_point, train_dataset, hyperparameter):\n",
    "    l = train_dataset.shape[0]\n",
    "    W = np.mat(np.eye(l))\n",
    "    for i, xi in enumerate(train_dataset):\n",
    "        denominator = (-2 * hyperparameter * hyperparameter)\n",
    "        W[i, i] = np.exp(np.dot((xi-the_query_point), (xi-the_query_point).T)/denominator)\n",
    "        \n",
    "    return W\n",
    "\n"
   ]
  },
  {
   "cell_type": "markdown",
   "metadata": {
    "deletable": false,
    "editable": false,
    "hidden": true,
    "run_control": {
     "frozen": true
    }
   },
   "source": [
    "Now implement the `closed form solution` based on the following formula:\n",
    "<br><br/>\n",
    "\\begin{equation*}\n",
    "    \\boldsymbol\\theta=(X^\\top WX)^{-1}(X^\\top WY)\n",
    "\\end{equation*}\n",
    "<br><br/>\n",
    "Of course if you use another form, implement your own.\n"
   ]
  },
  {
   "cell_type": "code",
   "execution_count": 8,
   "metadata": {
    "hidden": true
   },
   "outputs": [],
   "source": [
    "def predict(train_X, train_Y, query_x, hyperparameter):\n",
    "    l = train_X.shape[0]\n",
    "    X = np.hstack((train_X, np.ones((l, 1))))\n",
    "    qx = np.mat([list(query_x)[0], 1])\n",
    "    W = get_weight_matrix(qx, X, hyperparameter)\n",
    "    theta = np.linalg.pinv(X.T*(W * X))*(X.T*(W * train_Y))\n",
    "\n",
    "    return np.dot(qx, theta)\n",
    "\n"
   ]
  },
  {
   "cell_type": "code",
   "execution_count": null,
   "metadata": {},
   "outputs": [],
   "source": []
  },
  {
   "cell_type": "markdown",
   "metadata": {
    "deletable": false,
    "editable": false,
    "heading_collapsed": true,
    "hidden": true,
    "run_control": {
     "frozen": true
    }
   },
   "source": [
    "### Part7:\n",
    "Report accuracy of this model on the test dataset. Also, draw a plot that contains (x_test, y_test) pairs and (x_test, predicted_y) pairs that differ in color."
   ]
  },
  {
   "cell_type": "code",
   "execution_count": 9,
   "metadata": {
    "hidden": true
   },
   "outputs": [
    {
     "name": "stdout",
     "output_type": "stream",
     "text": [
      "Best hyperparameter is: 0.05577142857142858\n",
      "MSE test error: 0.08881703499852522\n",
      "MSE train error: 0.08521019146462755\n"
     ]
    }
   ],
   "source": [
    "\n",
    "from sklearn.model_selection import KFold\n",
    "\n",
    "res=[]\n",
    "for hyperparameter in np.linspace(0.0001, 0.13, num=15):\n",
    "\n",
    "    kf = KFold(n_splits=5,shuffle=True, random_state=42)\n",
    "    prediction=[]\n",
    "    true_label=[]\n",
    "    for train_index, test_index in kf.split(x_train):\n",
    "        x_train_fold, x_val_fold = x_train[train_index], x_train[test_index]\n",
    "        y_train_fold, y_val_fold = y_train[train_index], y_train[test_index]\n",
    "\n",
    "        pred = [predict(x_train_fold, y_train_fold, query, hyperparameter) for query in x_val_fold]\n",
    "        \n",
    "        prediction+=list(np.array(pred).flatten())\n",
    "        true_label+=list(y_val_fold.flatten())\n",
    "\n",
    "    prediction=np.array(prediction)\n",
    "    true_label=np.array(true_label)\n",
    "    error=np.sum((true_label.flatten() - prediction)**2)/len(true_label)\n",
    "    res.append([hyperparameter,error])\n",
    "\n",
    "\n",
    "res.sort(reverse=False , key= lambda x:x[1])\n",
    "\n",
    "\n",
    "hyperparameter=res[0][0]\n",
    "predicted_test = [predict(x_train, y_train, query, hyperparameter) for query in x_test]\n",
    "predicted_train = [predict(x_train, y_train, query, hyperparameter) for query in x_train]\n",
    "\n",
    "error = np.sum((y_test.flatten() - np.array(predicted_test).flatten())**2)/len(y_test)\n",
    "error_test = np.sum((y_train.flatten() - np.array(predicted_train).flatten())**2)/len(y_train)\n",
    "\n",
    "print('Best hyperparameter is:',hyperparameter)\n",
    "print(f\"MSE test error: {error}\")\n",
    "print(f\"MSE train error: {error_test}\")\n"
   ]
  },
  {
   "cell_type": "code",
   "execution_count": 10,
   "metadata": {
    "hidden": true
   },
   "outputs": [
    {
     "data": {
      "text/plain": [
       "<matplotlib.collections.PathCollection at 0x143fc6ca0>"
      ]
     },
     "execution_count": 10,
     "metadata": {},
     "output_type": "execute_result"
    },
    {
     "data": {
      "image/png": "[encoded data removed]",
      "text/plain": [
       "<Figure size 432x288 with 1 Axes>"
      ]
     },
     "metadata": {
      "needs_background": "light"
     },
     "output_type": "display_data"
    }
   ],
   "source": [
    "plt.scatter(x_test, y_test, c=\"blue\")\n",
    "plt.scatter(x_test, predicted_test, c=\"red\")"
   ]
  },
  {
   "cell_type": "markdown",
   "metadata": {
    "deletable": false,
    "editable": false,
    "heading_collapsed": true,
    "hidden": true,
    "run_control": {
     "frozen": true
    }
   },
   "source": [
    "### Part8:\n",
    "Is the performance of the new model better than the previous one? `Explain`."
   ]
  },
  {
   "cell_type": "markdown",
   "metadata": {
    "hidden": true
   },
   "source": [
    "the performance is much beetter. after fine tunning hyperparameter using cross-validation we get best result. This model is for nonlinear datas and from the plot and train/test error we understand that our model is fitted correctly and it is neither underfitted not overfitted."
   ]
  },
  {
   "cell_type": "markdown",
   "metadata": {
    "deletable": false,
    "editable": false,
    "heading_collapsed": true,
    "hidden": true,
    "run_control": {
     "frozen": true
    }
   },
   "source": [
    "### Part9:\n",
    "Now, we want to consider the `KNN` approach for this problem; Do you think it will perform well?"
   ]
  },
  {
   "cell_type": "markdown",
   "metadata": {
    "hidden": true
   },
   "source": [
    "this method will average near values for prediction. There is a very good chance if overfitting, but if the test data is similar to train data and if we choose K high enough it may perform well. K=1 is "
   ]
  },
  {
   "cell_type": "markdown",
   "metadata": {
    "deletable": false,
    "editable": false,
    "heading_collapsed": true,
    "hidden": true,
    "run_control": {
     "frozen": true
    }
   },
   "source": [
    "### Part10:\n",
    "Implementing the `KNN model`."
   ]
  },
  {
   "cell_type": "code",
   "execution_count": 11,
   "metadata": {
    "hidden": true
   },
   "outputs": [],
   "source": [
    "class KNN:\n",
    "    def __init__(self, number_neighbours, X, Y):\n",
    "        self.k = number_neighbours\n",
    "        self.X = X\n",
    "        self.Y = Y\n",
    "\n",
    "    def distance(self, x1, x2):\n",
    "        distance = np.abs((x1-x2)).flatten()\n",
    "        return distance\n",
    "\n",
    "    def return_nn_ids(self, x):\n",
    "        dis=np.abs(self.X-x).flatten()\n",
    "        indices=np.argsort(dis)[0:self.k]\n",
    "        return indices\n",
    "\n",
    "    def predict(self, x):\n",
    "        neareest_indices = self.return_nn_ids(x)\n",
    "        # return neareest_indices\n",
    "        predicted_y = np.average(self.Y[neareest_indices])\n",
    "        return predicted_y"
   ]
  },
  {
   "cell_type": "code",
   "execution_count": null,
   "metadata": {},
   "outputs": [],
   "source": []
  },
  {
   "cell_type": "code",
   "execution_count": 12,
   "metadata": {
    "hidden": true
   },
   "outputs": [],
   "source": [
    "def evaluation(k, x_train, y_train, x_test, y_test):\n",
    "    model = KNN(k, x_train, y_train)\n",
    "    predicted_y = [model.predict(x) for x in x_test]\n",
    "    error = np.sum((y_test.flatten() - np.array(predicted_y).flatten())**2)/len(y_test)\n",
    "    return error, predicted_y"
   ]
  },
  {
   "cell_type": "code",
   "execution_count": 13,
   "metadata": {
    "hidden": true
   },
   "outputs": [
    {
     "name": "stdout",
     "output_type": "stream",
     "text": [
      "Best K is 11\n",
      "\n",
      "MSE error of KNN for test dataset: 0.09688855710541418\n"
     ]
    }
   ],
   "source": [
    "from sklearn.model_selection import KFold\n",
    "\n",
    "res=[]\n",
    "for k in range(1,60):\n",
    "\n",
    "    kf = KFold(n_splits=5,shuffle=True, random_state=42)\n",
    "    prediction=[]\n",
    "    true_label=[]\n",
    "    for train_index, test_index in kf.split(x_train):\n",
    "        x_train_fold, x_val_fold = x_train[train_index], x_train[test_index]\n",
    "        y_train_fold, y_val_fold = y_train[train_index], y_train[test_index]\n",
    "\n",
    "        _,pred_y=evaluation(k,x_train_fold,y_train_fold,x_val_fold,y_val_fold)\n",
    "        \n",
    "        prediction+=pred_y\n",
    "        true_label+=list(y_val_fold.flatten())\n",
    "\n",
    "    prediction=np.array(prediction)\n",
    "    true_label=np.array(true_label)\n",
    "    error=np.sum((true_label.flatten() - prediction)**2)/len(true_label)\n",
    "    # print('k=',k,'error:',error)\n",
    "    res.append([k,error])\n",
    "\n",
    "\n",
    "\n",
    "\n",
    "res.sort(reverse=False , key= lambda x:x[1])\n",
    "K=res[0][0]\n",
    "\n",
    "print('Best K is',K)\n",
    "\n",
    "error_knn, predicted_y = evaluation(11, x_train, y_train, x_test, y_test)\n",
    "\n",
    "print(f\"\\nMSE error of KNN for test dataset: {error_knn}\")"
   ]
  },
  {
   "cell_type": "code",
   "execution_count": 14,
   "metadata": {
    "hidden": true
   },
   "outputs": [
    {
     "data": {
      "text/plain": [
       "<matplotlib.collections.PathCollection at 0x1448aea90>"
      ]
     },
     "execution_count": 14,
     "metadata": {},
     "output_type": "execute_result"
    },
    {
     "data": {
      "image/png": "[encoded data removed]",
      "text/plain": [
       "<Figure size 432x288 with 1 Axes>"
      ]
     },
     "metadata": {
      "needs_background": "light"
     },
     "output_type": "display_data"
    }
   ],
   "source": [
    "plt.scatter(x_test, y_test, c=\"blue\")\n",
    "plt.scatter(x_test, predicted_y, c=\"red\")"
   ]
  },
  {
   "cell_type": "markdown",
   "metadata": {
    "deletable": false,
    "editable": false,
    "hidden": true,
    "run_control": {
     "frozen": true
    }
   },
   "source": [
    "To find best K for this algorithm we suggest to use cross-validation.\n",
    "<br><br/>\n",
    "Did this model perform well (due to the plot and test accuracy)?"
   ]
  },
  {
   "cell_type": "markdown",
   "metadata": {
    "hidden": true
   },
   "source": [
    "this model is perform well, but locally weighted model was sloghtly better, but also this model is neither underfited nor overfited"
   ]
  }
 ],
 "metadata": {
  "kernelspec": {
   "display_name": "Python 3.9.12 ('myenv')",
   "language": "python",
   "name": "python3"
  },
  "language_info": {
   "codemirror_mode": {
    "name": "ipython",
    "version": 3
   },
   "file_extension": ".py",
   "mimetype": "text/x-python",
   "name": "python",
   "nbconvert_exporter": "python",
   "pygments_lexer": "ipython3",
   "version": "3.9.12"
  },
  "toc": {
   "base_numbering": 1,
   "nav_menu": {},
   "number_sections": true,
   "sideBar": true,
   "skip_h1_title": false,
   "title_cell": "Table of Contents",
   "title_sidebar": "Contents",
   "toc_cell": false,
   "toc_position": {},
   "toc_section_display": true,
   "toc_window_display": false
  },
  "varInspector": {
   "cols": {
    "lenName": 16,
    "lenType": 16,
    "lenVar": 40
   },
   "kernels_config": {
    "python": {
     "delete_cmd_postfix": "",
     "delete_cmd_prefix": "del ",
     "library": "var_list.py",
     "varRefreshCmd": "print(var_dic_list())"
    },
    "r": {
     "delete_cmd_postfix": ") ",
     "delete_cmd_prefix": "rm(",
     "library": "var_list.r",
     "varRefreshCmd": "cat(var_dic_list()) "
    }
   },
   "types_to_exclude": [
    "module",
    "function",
    "builtin_function_or_method",
    "instance",
    "_Feature"
   ],
   "window_display": false
  },
  "vscode": {
   "interpreter": {
    "hash": "857970f990130bbcaee778cf1846f7875676d945310dca1379fe4b5ef3d258a5"
   }
  }
 },
 "nbformat": 4,
 "nbformat_minor": 4
}
